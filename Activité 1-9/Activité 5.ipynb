{
 "cells": [
  {
   "cell_type": "markdown",
   "source": [
    "# Activité 5 :"
   ],
   "metadata": {}
  },
  {
   "cell_type": "markdown",
   "source": [
    "#### 1- Importer la bibliothèque Pandas"
   ],
   "metadata": {}
  },
  {
   "cell_type": "code",
   "execution_count": null,
   "source": [],
   "outputs": [],
   "metadata": {
    "solution2": "hidden",
    "solution2_first": true
   }
  },
  {
   "cell_type": "markdown",
   "source": [
    "<img src=\"https://coursenligne.edublogs.org/files/2022/01/act-5-1.png\" style=\"float:left;\">"
   ],
   "metadata": {
    "solution2": "hidden"
   }
  },
  {
   "cell_type": "markdown",
   "source": [
    "#### 2- Charger le fichier « Precipitation.csv » dans un DataFrame"
   ],
   "metadata": {}
  },
  {
   "cell_type": "code",
   "execution_count": null,
   "source": [],
   "outputs": [],
   "metadata": {
    "solution2": "hidden",
    "solution2_first": true
   }
  },
  {
   "cell_type": "markdown",
   "source": [
    "<img src=\"https://coursenligne.edublogs.org/files/2022/01/act-5-2.png\" style=\"float:left;\">"
   ],
   "metadata": {
    "solution2": "hidden"
   }
  },
  {
   "cell_type": "markdown",
   "source": [
    "#### 3- Afficher les premières lignes du DataFrame"
   ],
   "metadata": {}
  },
  {
   "cell_type": "code",
   "execution_count": null,
   "source": [],
   "outputs": [],
   "metadata": {
    "solution2": "hidden",
    "solution2_first": true
   }
  },
  {
   "cell_type": "markdown",
   "source": [
    "<img src=\"https://coursenligne.edublogs.org/files/2022/01/act-5-3.png\" style=\"float:left;\">"
   ],
   "metadata": {
    "solution2": "hidden"
   }
  },
  {
   "cell_type": "markdown",
   "source": [
    "#### 4- Afficher la précipitation maximale de « Tunis »"
   ],
   "metadata": {}
  },
  {
   "cell_type": "code",
   "execution_count": null,
   "source": [],
   "outputs": [],
   "metadata": {
    "solution2": "hidden",
    "solution2_first": true
   }
  },
  {
   "cell_type": "markdown",
   "source": [
    "<img src=\"https://coursenligne.edublogs.org/files/2022/01/act-5-4.png\" style=\"float:left;\">"
   ],
   "metadata": {
    "solution2": "hidden"
   }
  },
  {
   "cell_type": "markdown",
   "source": [
    "#### 5- Afficher la précipitation minimale de « Tunis »"
   ],
   "metadata": {}
  },
  {
   "cell_type": "code",
   "execution_count": null,
   "source": [],
   "outputs": [],
   "metadata": {
    "solution2": "hidden",
    "solution2_first": true
   }
  },
  {
   "cell_type": "markdown",
   "source": [
    "<img src=\"https://coursenligne.edublogs.org/files/2022/01/act-5-5.png\" style=\"float:left;\">"
   ],
   "metadata": {
    "solution2": "hidden"
   }
  },
  {
   "cell_type": "markdown",
   "source": [
    "#### 6- Afficher la précipitation moyenne de « Tunis »"
   ],
   "metadata": {}
  },
  {
   "cell_type": "code",
   "execution_count": null,
   "source": [],
   "outputs": [],
   "metadata": {
    "solution2": "hidden",
    "solution2_first": true
   }
  },
  {
   "cell_type": "markdown",
   "source": [
    "<img src=\"https://coursenligne.edublogs.org/files/2022/01/act-5-6.png\" style=\"float:left;\">"
   ],
   "metadata": {
    "solution2": "hidden"
   }
  },
  {
   "cell_type": "markdown",
   "source": [
    "#### 7- Afficher le cumul (somme) des précipitations de « Tunis » (de 2000 à 2021)"
   ],
   "metadata": {}
  },
  {
   "cell_type": "code",
   "execution_count": null,
   "source": [],
   "outputs": [],
   "metadata": {
    "solution2": "hidden",
    "solution2_first": true
   }
  },
  {
   "cell_type": "markdown",
   "source": [
    "<img src=\"https://coursenligne.edublogs.org/files/2022/01/act-5-7.png\" style=\"float:left;\">"
   ],
   "metadata": {
    "solution2": "hidden"
   }
  },
  {
   "cell_type": "markdown",
   "source": [
    "#### 8- Afficher le nombre de lignes"
   ],
   "metadata": {}
  },
  {
   "cell_type": "code",
   "execution_count": null,
   "source": [],
   "outputs": [],
   "metadata": {
    "solution2": "hidden",
    "solution2_first": true
   }
  },
  {
   "cell_type": "markdown",
   "source": [
    "<img src=\"https://coursenligne.edublogs.org/files/2022/01/act-5-8.png\" style=\"float:left;\">"
   ],
   "metadata": {
    "solution2": "hidden"
   }
  },
  {
   "cell_type": "markdown",
   "source": [
    "# Syntaxe et définition :\n",
    "\n",
    "<img src=\"https://coursenligne.edublogs.org/files/2022/01/act-5-tab.png\">"
   ],
   "metadata": {}
  }
 ],
 "metadata": {
  "kernelspec": {
   "display_name": "Python 3",
   "language": "python",
   "name": "python3"
  },
  "language_info": {
   "codemirror_mode": {
    "name": "ipython",
    "version": 3
   },
   "file_extension": ".py",
   "mimetype": "text/x-python",
   "name": "python",
   "nbconvert_exporter": "python",
   "pygments_lexer": "ipython3",
   "version": "3.7.3"
  }
 },
 "nbformat": 4,
 "nbformat_minor": 2
}