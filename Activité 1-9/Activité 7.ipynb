{
 "cells": [
  {
   "cell_type": "markdown",
   "source": [
    "# Activité 7 :"
   ],
   "metadata": {}
  },
  {
   "cell_type": "markdown",
   "source": [
    "#### 1- Importer la bibliothèque Pandas"
   ],
   "metadata": {}
  },
  {
   "cell_type": "code",
   "execution_count": null,
   "source": [],
   "outputs": [],
   "metadata": {
    "solution2": "hidden",
    "solution2_first": true
   }
  },
  {
   "cell_type": "markdown",
   "source": [
    "<img src=\"https://coursenligne.edublogs.org/files/2022/01/act-7-1.png\" style=\"float:left;\">"
   ],
   "metadata": {
    "solution2": "hidden"
   }
  },
  {
   "cell_type": "markdown",
   "source": [
    "#### 2- Charger le fichier « Precipitation.xlsx » dans un DataFrame"
   ],
   "metadata": {}
  },
  {
   "cell_type": "code",
   "execution_count": null,
   "source": [],
   "outputs": [],
   "metadata": {
    "solution2": "hidden",
    "solution2_first": true
   }
  },
  {
   "cell_type": "markdown",
   "source": [
    "<img src=\"https://coursenligne.edublogs.org/files/2022/01/act-7-2.png\" style=\"float:left;\">"
   ],
   "metadata": {
    "solution2": "hidden"
   }
  },
  {
   "cell_type": "markdown",
   "source": [
    "#### 3- Afficher les premières lignes du DataFrame"
   ],
   "metadata": {}
  },
  {
   "cell_type": "code",
   "execution_count": null,
   "source": [],
   "outputs": [],
   "metadata": {
    "solution2": "hidden",
    "solution2_first": true
   }
  },
  {
   "cell_type": "markdown",
   "source": [
    "<img src=\"https://coursenligne.edublogs.org/files/2022/01/act-7-3.png\" style=\"float:left;\">"
   ],
   "metadata": {
    "solution2": "hidden"
   }
  },
  {
   "cell_type": "markdown",
   "source": [
    "#### 4- Trier le DataFrame par Reference"
   ],
   "metadata": {}
  },
  {
   "cell_type": "code",
   "execution_count": null,
   "source": [],
   "outputs": [],
   "metadata": {
    "solution2": "hidden",
    "solution2_first": true
   }
  },
  {
   "cell_type": "markdown",
   "source": [
    "<img src=\"https://coursenligne.edublogs.org/files/2022/01/act-7-4.png\" style=\"float:left;\">"
   ],
   "metadata": {
    "solution2": "hidden"
   }
  },
  {
   "cell_type": "markdown",
   "source": [
    "#### 5- Trier le DataFrame par Reference en ordre décroissant"
   ],
   "metadata": {}
  },
  {
   "cell_type": "code",
   "execution_count": null,
   "source": [],
   "outputs": [],
   "metadata": {
    "solution2": "hidden",
    "solution2_first": true
   }
  },
  {
   "cell_type": "markdown",
   "source": [
    "<img src=\"https://coursenligne.edublogs.org/files/2022/01/act-7-5.png\" style=\"float:left;\">"
   ],
   "metadata": {
    "solution2": "hidden"
   }
  },
  {
   "cell_type": "markdown",
   "source": [
    "#### 6- Trier le DataFrame par Reference puis par Date"
   ],
   "metadata": {}
  },
  {
   "cell_type": "code",
   "execution_count": null,
   "source": [],
   "outputs": [],
   "metadata": {
    "solution2": "hidden",
    "solution2_first": true
   }
  },
  {
   "cell_type": "markdown",
   "source": [
    "<img src=\"https://coursenligne.edublogs.org/files/2022/01/act-7-6.png\" style=\"float:left;\">"
   ],
   "metadata": {
    "solution2": "hidden"
   }
  },
  {
   "cell_type": "markdown",
   "source": [
    "#### 7- Trier le DataFrame par index de ligne"
   ],
   "metadata": {}
  },
  {
   "cell_type": "code",
   "execution_count": null,
   "source": [],
   "outputs": [],
   "metadata": {
    "solution2": "hidden",
    "solution2_first": true
   }
  },
  {
   "cell_type": "markdown",
   "source": [
    "<img src=\"https://coursenligne.edublogs.org/files/2022/01/act-7-7.png\" style=\"float:left;\">"
   ],
   "metadata": {
    "solution2": "hidden"
   }
  },
  {
   "cell_type": "markdown",
   "source": [
    "#### 8- Trier le DataFrame par colonne"
   ],
   "metadata": {}
  },
  {
   "cell_type": "code",
   "execution_count": null,
   "source": [],
   "outputs": [],
   "metadata": {
    "solution2": "hidden",
    "solution2_first": true
   }
  },
  {
   "cell_type": "markdown",
   "source": [
    "<img src=\"https://coursenligne.edublogs.org/files/2022/01/act-7-8.png\" style=\"float:left;\">"
   ],
   "metadata": {
    "solution2": "hidden"
   }
  },
  {
   "cell_type": "markdown",
   "source": [
    "# Syntaxe et définition :\n",
    "\n",
    "<img src=\"https://coursenligne.edublogs.org/files/2022/01/act-7-tab.png\">"
   ],
   "metadata": {}
  }
 ],
 "metadata": {
  "kernelspec": {
   "display_name": "Python 3",
   "language": "python",
   "name": "python3"
  },
  "language_info": {
   "codemirror_mode": {
    "name": "ipython",
    "version": 3
   },
   "file_extension": ".py",
   "mimetype": "text/x-python",
   "name": "python",
   "nbconvert_exporter": "python",
   "pygments_lexer": "ipython3",
   "version": "3.7.3"
  }
 },
 "nbformat": 4,
 "nbformat_minor": 2
}