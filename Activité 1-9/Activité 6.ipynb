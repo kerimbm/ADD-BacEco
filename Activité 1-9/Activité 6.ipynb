{
 "cells": [
  {
   "cell_type": "markdown",
   "source": [
    "# Activité 6 :"
   ],
   "metadata": {}
  },
  {
   "cell_type": "markdown",
   "source": [
    "#### 1- Importer la bibliothèque Pandas"
   ],
   "metadata": {}
  },
  {
   "cell_type": "code",
   "execution_count": null,
   "source": [],
   "outputs": [],
   "metadata": {
    "solution2": "hidden",
    "solution2_first": true
   }
  },
  {
   "cell_type": "markdown",
   "source": [
    "<img src=\"https://coursenligne.edublogs.org/files/2022/01/act-6-1.png\" style=\"float:left;\">"
   ],
   "metadata": {
    "solution2": "hidden"
   }
  },
  {
   "cell_type": "markdown",
   "source": [
    "#### 2- Charger le fichier « Precipitation.txt » dans un DataFrame"
   ],
   "metadata": {}
  },
  {
   "cell_type": "code",
   "execution_count": null,
   "source": [],
   "outputs": [],
   "metadata": {
    "solution2": "hidden",
    "solution2_first": true
   }
  },
  {
   "cell_type": "markdown",
   "source": [
    "<img src=\"https://coursenligne.edublogs.org/files/2022/01/act-6-2.png\" style=\"float:left;\">"
   ],
   "metadata": {
    "solution2": "hidden"
   }
  },
  {
   "cell_type": "markdown",
   "source": [
    "#### 3- Afficher les premières lignes du DataFrame"
   ],
   "metadata": {}
  },
  {
   "cell_type": "code",
   "execution_count": null,
   "source": [],
   "outputs": [],
   "metadata": {
    "solution2": "hidden",
    "solution2_first": true
   }
  },
  {
   "cell_type": "markdown",
   "source": [
    "<img src=\"https://coursenligne.edublogs.org/files/2022/01/act-6-3.png\" style=\"float:left;\">"
   ],
   "metadata": {
    "solution2": "hidden"
   }
  },
  {
   "cell_type": "markdown",
   "source": [
    "#### 4- Afficher les lignes dont les précipitations sont supérieures à 150 mm en Tunis"
   ],
   "metadata": {}
  },
  {
   "cell_type": "code",
   "execution_count": null,
   "source": [],
   "outputs": [],
   "metadata": {
    "solution2": "hidden",
    "solution2_first": true
   }
  },
  {
   "cell_type": "markdown",
   "source": [
    "<img src=\"https://coursenligne.edublogs.org/files/2022/01/act-6-4.png\" style=\"float:left;\">"
   ],
   "metadata": {
    "solution2": "hidden"
   }
  },
  {
   "cell_type": "markdown",
   "source": [
    "#### 5- Afficher les lignes dont les précipitations sont supérieures à 150 mm en Tunis et en Ariana"
   ],
   "metadata": {}
  },
  {
   "cell_type": "code",
   "execution_count": null,
   "source": [],
   "outputs": [],
   "metadata": {
    "solution2": "hidden",
    "solution2_first": true
   }
  },
  {
   "cell_type": "markdown",
   "source": [
    "<img src=\"https://coursenligne.edublogs.org/files/2022/01/act-6-5.png\" style=\"float:left;\">"
   ],
   "metadata": {
    "solution2": "hidden"
   }
  },
  {
   "cell_type": "markdown",
   "source": [
    "# Syntaxe et définition :\n",
    "\n",
    "<img src=\"https://coursenligne.edublogs.org/files/2022/01/act-6-tab.png\">\n",
    "\n",
    "```Python\n",
    "opComp : >, <, >=, <=, ==, != (différent)\n",
    "opLog :  & (et), | (ou)\n",
    "```"
   ],
   "metadata": {}
  }
 ],
 "metadata": {
  "kernelspec": {
   "display_name": "Python 3",
   "language": "python",
   "name": "python3"
  },
  "language_info": {
   "codemirror_mode": {
    "name": "ipython",
    "version": 3
   },
   "file_extension": ".py",
   "mimetype": "text/x-python",
   "name": "python",
   "nbconvert_exporter": "python",
   "pygments_lexer": "ipython3",
   "version": "3.7.3"
  }
 },
 "nbformat": 4,
 "nbformat_minor": 2
}