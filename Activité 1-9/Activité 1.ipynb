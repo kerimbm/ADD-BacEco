{
 "cells": [
  {
   "cell_type": "markdown",
   "source": [
    "# Activité 1 :"
   ],
   "metadata": {}
  },
  {
   "cell_type": "markdown",
   "source": [
    "#### 1- Importer la bibliothèque Pandas en définissant un aléa « ps »"
   ],
   "metadata": {}
  },
  {
   "cell_type": "code",
   "execution_count": null,
   "source": [],
   "outputs": [],
   "metadata": {
    "solution2": "hidden",
    "solution2_first": true
   }
  },
  {
   "cell_type": "markdown",
   "source": [
    "<img src=\"https://coursenligne.edublogs.org/files/2022/01/act-1-1.png\" style=\"float:left;\">"
   ],
   "metadata": {
    "solution2": "hidden"
   }
  },
  {
   "cell_type": "markdown",
   "source": [
    "#### 2- Charger le fichier « Precipitation.xlsx » dans un DataFrame"
   ],
   "metadata": {}
  },
  {
   "cell_type": "code",
   "execution_count": null,
   "source": [],
   "outputs": [],
   "metadata": {
    "solution2": "hidden",
    "solution2_first": true
   }
  },
  {
   "cell_type": "markdown",
   "source": [
    "<img src=\"https://coursenligne.edublogs.org/files/2022/01/act-1-2.png\" style=\"float:left;\">"
   ],
   "metadata": {
    "solution2": "hidden"
   }
  },
  {
   "cell_type": "markdown",
   "source": [
    "#### 3- Afficher le contenu du DataFrame créé"
   ],
   "metadata": {}
  },
  {
   "cell_type": "code",
   "execution_count": null,
   "source": [],
   "outputs": [],
   "metadata": {
    "solution2": "hidden",
    "solution2_first": true
   }
  },
  {
   "cell_type": "markdown",
   "source": [
    "<img src=\"https://coursenligne.edublogs.org/files/2022/01/act-1-3.png\" style=\"float:left;\">"
   ],
   "metadata": {
    "solution2": "hidden"
   }
  },
  {
   "cell_type": "markdown",
   "source": [
    "#### 4- Afficher une rapide statistique (Un résumé) du DataFrame"
   ],
   "metadata": {}
  },
  {
   "cell_type": "code",
   "execution_count": null,
   "source": [],
   "outputs": [],
   "metadata": {
    "solution2": "hidden",
    "solution2_first": true
   }
  },
  {
   "cell_type": "markdown",
   "source": [
    "<img src=\"https://coursenligne.edublogs.org/files/2022/01/act-1-4.png\" style=\"float:left;\">"
   ],
   "metadata": {
    "solution2": "hidden"
   }
  },
  {
   "cell_type": "markdown",
   "source": [
    "#### 5- Afficher les noms des colonnes du DataFrame"
   ],
   "metadata": {}
  },
  {
   "cell_type": "code",
   "execution_count": null,
   "source": [],
   "outputs": [],
   "metadata": {
    "solution2": "hidden",
    "solution2_first": true
   }
  },
  {
   "cell_type": "markdown",
   "source": [
    "<img src=\"https://coursenligne.edublogs.org/files/2022/01/act-1-5.png\" style=\"float:left;\">"
   ],
   "metadata": {
    "solution2": "hidden"
   }
  },
  {
   "cell_type": "markdown",
   "source": [
    "#### 6- Afficher les dimensions du DataFrame (nombre de lignes, nombre de colonnes)"
   ],
   "metadata": {}
  },
  {
   "cell_type": "code",
   "execution_count": null,
   "source": [],
   "outputs": [],
   "metadata": {
    "solution2": "hidden",
    "solution2_first": true
   }
  },
  {
   "cell_type": "markdown",
   "source": [
    "<img src=\"https://coursenligne.edublogs.org/files/2022/01/act-1-6.png\" style=\"float:left;\">"
   ],
   "metadata": {
    "solution2": "hidden"
   }
  },
  {
   "cell_type": "markdown",
   "source": [
    "#### 7- Afficher le nombre d’éléments du DataFrame (Le nombre de cellules du tableau)"
   ],
   "metadata": {}
  },
  {
   "cell_type": "code",
   "execution_count": null,
   "source": [],
   "outputs": [],
   "metadata": {
    "solution2": "hidden",
    "solution2_first": true
   }
  },
  {
   "cell_type": "markdown",
   "source": [
    "<img src=\"https://coursenligne.edublogs.org/files/2022/01/act-1-7.png\" style=\"float:left;\">"
   ],
   "metadata": {
    "solution2": "hidden"
   }
  },
  {
   "cell_type": "markdown",
   "source": [
    "#### 8- Afficher les informations relatives au DataFrame"
   ],
   "metadata": {}
  },
  {
   "cell_type": "code",
   "execution_count": null,
   "source": [],
   "outputs": [],
   "metadata": {
    "solution2": "hidden",
    "solution2_first": true
   }
  },
  {
   "cell_type": "markdown",
   "source": [
    "<img src=\"https://coursenligne.edublogs.org/files/2022/01/act-1-8.png\" style=\"float:left;\">"
   ],
   "metadata": {
    "solution2": "hidden"
   }
  },
  {
   "cell_type": "markdown",
   "source": [
    "# Syntaxe et définition :\n",
    "\n",
    "<img src=\"https://coursenligne.edublogs.org/files/2022/01/act-1-tab.png\">"
   ],
   "metadata": {}
  }
 ],
 "metadata": {
  "kernelspec": {
   "display_name": "Python 3",
   "language": "python",
   "name": "python3"
  },
  "language_info": {
   "codemirror_mode": {
    "name": "ipython",
    "version": 3
   },
   "file_extension": ".py",
   "mimetype": "text/x-python",
   "name": "python",
   "nbconvert_exporter": "python",
   "pygments_lexer": "ipython3",
   "version": "3.7.3"
  }
 },
 "nbformat": 4,
 "nbformat_minor": 2
}