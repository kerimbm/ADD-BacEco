{
 "cells": [
  {
   "cell_type": "markdown",
   "source": [
    "# Activité 2 :"
   ],
   "metadata": {}
  },
  {
   "cell_type": "markdown",
   "source": [
    "#### 1- Importer la bibliothèque Pandas"
   ],
   "metadata": {}
  },
  {
   "cell_type": "code",
   "execution_count": null,
   "source": [],
   "outputs": [],
   "metadata": {
    "solution2": "hidden",
    "solution2_first": true
   }
  },
  {
   "cell_type": "markdown",
   "source": [
    "<img src=\"https://coursenligne.edublogs.org/files/2022/01/act-2-1.png\" style=\"float:left;\">"
   ],
   "metadata": {
    "solution2": "hidden"
   }
  },
  {
   "cell_type": "markdown",
   "source": [
    "#### 2- Charger le fichier « Precipitation.csv » dans un DataFrame"
   ],
   "metadata": {}
  },
  {
   "cell_type": "code",
   "execution_count": null,
   "source": [],
   "outputs": [],
   "metadata": {
    "solution2": "hidden",
    "solution2_first": true
   }
  },
  {
   "cell_type": "markdown",
   "source": [
    "<img src=\"https://coursenligne.edublogs.org/files/2022/01/act-2-2.png\" style=\"float:left;\">"
   ],
   "metadata": {
    "solution2": "hidden"
   }
  },
  {
   "cell_type": "markdown",
   "source": [
    "#### 3- Afficher le contenu du DataFrame"
   ],
   "metadata": {}
  },
  {
   "cell_type": "code",
   "execution_count": null,
   "source": [],
   "outputs": [],
   "metadata": {
    "solution2": "hidden",
    "solution2_first": true
   }
  },
  {
   "cell_type": "markdown",
   "source": [
    "<img src=\"https://coursenligne.edublogs.org/files/2022/01/act-2-3.png\" style=\"float:left;\">"
   ],
   "metadata": {
    "solution2": "hidden"
   }
  },
  {
   "cell_type": "markdown",
   "source": [
    "#### 4- Afficher une rapide statistique (Un résumé) du DataFrame"
   ],
   "metadata": {}
  },
  {
   "cell_type": "code",
   "execution_count": null,
   "source": [],
   "outputs": [],
   "metadata": {
    "solution2": "hidden",
    "solution2_first": true
   }
  },
  {
   "cell_type": "markdown",
   "source": [
    "<img src=\"https://coursenligne.edublogs.org/files/2022/01/act-2-4.png\" style=\"float:left;\">"
   ],
   "metadata": {
    "solution2": "hidden"
   }
  },
  {
   "cell_type": "markdown",
   "source": [
    "#### 5- Renommer la colonne « Date » en « Annee »"
   ],
   "metadata": {}
  },
  {
   "cell_type": "code",
   "execution_count": null,
   "source": [],
   "outputs": [],
   "metadata": {
    "solution2": "hidden",
    "solution2_first": true
   }
  },
  {
   "cell_type": "markdown",
   "source": [
    "<img src=\"https://coursenligne.edublogs.org/files/2022/01/act-2-5.png\" style=\"float:left;\">"
   ],
   "metadata": {
    "solution2": "hidden"
   }
  },
  {
   "cell_type": "markdown",
   "source": [
    "#### 6- Supprimer les lignes : 0, 1, 2 et 3"
   ],
   "metadata": {}
  },
  {
   "cell_type": "code",
   "execution_count": null,
   "source": [],
   "outputs": [],
   "metadata": {
    "solution2": "hidden",
    "solution2_first": true
   }
  },
  {
   "cell_type": "markdown",
   "source": [
    "<img src=\"https://coursenligne.edublogs.org/files/2022/01/act-2-6.png\" style=\"float:left;\">"
   ],
   "metadata": {
    "solution2": "hidden"
   }
  },
  {
   "cell_type": "markdown",
   "source": [
    "#### 7- Supprimer la colonne « Reference »"
   ],
   "metadata": {}
  },
  {
   "cell_type": "code",
   "execution_count": null,
   "source": [],
   "outputs": [],
   "metadata": {
    "solution2": "hidden",
    "solution2_first": true
   }
  },
  {
   "cell_type": "markdown",
   "source": [
    "<img src=\"https://coursenligne.edublogs.org/files/2022/01/act-2-7.png\" style=\"float:left;\">"
   ],
   "metadata": {
    "solution2": "hidden"
   }
  },
  {
   "cell_type": "markdown",
   "source": [
    "# Syntaxe et définition :\n",
    "\n",
    "<img src=\"https://coursenligne.edublogs.org/files/2022/01/act-2-tab.png\">"
   ],
   "metadata": {}
  }
 ],
 "metadata": {
  "kernelspec": {
   "display_name": "Python 3",
   "language": "python",
   "name": "python3"
  },
  "language_info": {
   "codemirror_mode": {
    "name": "ipython",
    "version": 3
   },
   "file_extension": ".py",
   "mimetype": "text/x-python",
   "name": "python",
   "nbconvert_exporter": "python",
   "pygments_lexer": "ipython3",
   "version": "3.7.3"
  }
 },
 "nbformat": 4,
 "nbformat_minor": 2
}